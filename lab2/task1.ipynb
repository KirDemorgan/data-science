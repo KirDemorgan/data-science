{
 "cells": [
  {
   "cell_type": "markdown",
   "metadata": {},
   "source": [
    "# Задача 1: Сжатие сообщений\n",
    "\n",
    "Функция для сжатия строки методом RLE (Run Length Encoding)"
   ]
  },
  {
   "cell_type": "code",
   "execution_count": null,
   "metadata": {},
   "outputs": [],
   "source": [
    "def compress_message(message):\n",
    "    if not message:\n",
    "        return \"\"\n",
    "    \n",
    "    result = []\n",
    "    current_char = message[0]\n",
    "    count = 1\n",
    "    \n",
    "    for i in range(1, len(message)):\n",
    "        if message[i] == current_char:\n",
    "            count += 1\n",
    "        else:\n",
    "            if count == 1:\n",
    "                result.append(current_char)\n",
    "            else:\n",
    "                result.append(str(count) + current_char)\n",
    "            \n",
    "            current_char = message[i]\n",
    "            count = 1\n",
    "    \n",
    "    if count == 1:\n",
    "        result.append(current_char)\n",
    "    else:\n",
    "        result.append(str(count) + current_char)\n",
    "    \n",
    "    return ''.join(result)"
   ]
  },
  {
   "cell_type": "code",
   "execution_count": null,
   "metadata": {},
   "outputs": [],
   "source": [
    "while True:\n",
    "    message = input(\"Введите сообщение для сжатия: \").strip()\n",
    "    \n",
    "    if not message:\n",
    "        print(\"Ошибка: сообщение не может быть пустым\")\n",
    "        continue\n",
    "    \n",
    "    if len(message) > 1000:\n",
    "        print(\"Ошибка: сообщение слишком длинное (максимум 1000 символов)\")\n",
    "        continue\n",
    "    \n",
    "    result = compress_message(message)\n",
    "    print(f\"Исходное сообщение: {message}\")\n",
    "    print(f\"Сжатое сообщение: {result}\")\n",
    "    \n",
    "    if input(\"Продолжить? (y/n): \").lower() != 'y':\n",
    "        break"
   ]
  }
 ],
 "metadata": {
  "kernelspec": {
   "display_name": "Python 3",
   "language": "python",
   "name": "python3"
  },
  "language_info": {
   "codemirror_mode": {
    "name": "ipython",
    "version": 3
   },
   "file_extension": ".py",
   "mimetype": "text/x-python",
   "name": "python",
   "nbconvert_exporter": "python",
   "pygments_lexer": "ipython3",
   "version": "3.8.0"
  }
 },
 "nbformat": 4,
 "nbformat_minor": 4
}