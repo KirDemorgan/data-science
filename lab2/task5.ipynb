{
 "cells": [
  {
   "cell_type": "markdown",
   "metadata": {},
   "source": [
    "# Задача 5: Анализ заказов пиццы\n",
    "\n",
    "Анализ данных о заказах пиццерии за несколько дней"
   ]
  },
  {
   "cell_type": "code",
   "execution_count": null,
   "metadata": {},
   "outputs": [],
   "source": [
    "from collections import defaultdict\n",
    "import re\n",
    "\n",
    "orders = []\n",
    "\n",
    "try:\n",
    "    n = int(input(\"Количество заказов: \"))\n",
    "    if n < 1 or n > 1000:\n",
    "        raise ValueError(\"Количество заказов должно быть от 1 до 1000\")\n",
    "    \n",
    "    for i in range(n):\n",
    "        print(f\"\\nЗаказ {i+1}:\")\n",
    "        \n",
    "        date = input(\"Дата (YYYY-MM-DD): \").strip()\n",
    "        if not re.match(r'^\\d{4}-\\d{2}-\\d{2}$', date):\n",
    "            raise ValueError(\"Неверный формат даты\")\n",
    "        \n",
    "        pizza = input(\"Название пиццы: \").strip()\n",
    "        if not pizza or len(pizza) > 50:\n",
    "            raise ValueError(\"Название пиццы не может быть пустым или длиннее 50 символов\")\n",
    "        \n",
    "        cost = float(input(\"Стоимость: \"))\n",
    "        if cost <= 0 or cost > 10000:\n",
    "            raise ValueError(\"Стоимость должна быть от 0 до 10000\")\n",
    "        \n",
    "        orders.append((date, pizza, cost))\n",
    "    \n",
    "    print(f\"\\nВсего заказов: {len(orders)}\")\n",
    "    print(f\"Период: {min(order[0] for order in orders)} - {max(order[0] for order in orders)}\")\n",
    "    \n",
    "except ValueError as e:\n",
    "    print(f\"Ошибка: {e}\")"
   ]
  },
  {
   "cell_type": "code",
   "execution_count": null,
   "metadata": {},
   "outputs": [],
   "source": [
    "if orders:\n",
    "    pizza_counts = defaultdict(int)\n",
    "    \n",
    "    for date, pizza, cost in orders:\n",
    "        pizza_counts[pizza] += 1\n",
    "    \n",
    "    print(\"а) Популярность пицц:\")\n",
    "    sorted_pizzas = sorted(pizza_counts.items(), key=lambda x: x[1], reverse=True)\n",
    "    for pizza, count in sorted_pizzas:\n",
    "        print(f\"{pizza}: {count} заказов\")"
   ]
  },
  {
   "cell_type": "code",
   "execution_count": null,
   "metadata": {},
   "outputs": [],
   "source": [
    "if orders:\n",
    "    daily_sales = defaultdict(float)\n",
    "    \n",
    "    for date, pizza, cost in orders:\n",
    "        daily_sales[date] += cost\n",
    "    \n",
    "    print(\"б) Продажи по датам:\")\n",
    "    sorted_dates = sorted(daily_sales.items())\n",
    "    for date, total in sorted_dates:\n",
    "        print(f\"{date}: {total:.2f} руб.\")"
   ]
  },
  {
   "cell_type": "code",
   "execution_count": null,
   "metadata": {},
   "outputs": [],
   "source": [
    "if orders:\n",
    "    max_order = max(orders, key=lambda x: x[2])\n",
    "    \n",
    "    print(\"в) Самый дорогой заказ:\")\n",
    "    print(f\"Дата: {max_order[0]}, Пицца: {max_order[1]}, Стоимость: {max_order[2]:.2f} руб.\")"
   ]
  },
  {
   "cell_type": "code",
   "execution_count": null,
   "metadata": {},
   "outputs": [],
   "source": [
    "if orders:\n",
    "    total_revenue = sum(order[2] for order in orders)\n",
    "    avg_cost = total_revenue / len(orders)\n",
    "    \n",
    "    print(\"г) Статистика:\")\n",
    "    print(f\"Общая выручка: {total_revenue:.2f} руб.\")\n",
    "    print(f\"Средняя стоимость заказа: {avg_cost:.2f} руб.\")"
   ]
  }
 ],
 "metadata": {
  "kernelspec": {
   "display_name": "Python 3",
   "language": "python",
   "name": "python3"
  },
  "language_info": {
   "codemirror_mode": {
    "name": "ipython",
    "version": 3
   },
   "file_extension": ".py",
   "mimetype": "text/x-python",
   "name": "python",
   "nbconvert_exporter": "python",
   "pygments_lexer": "ipython3",
   "version": "3.8.0"
  }
 },
 "nbformat": 4,
 "nbformat_minor": 4
}