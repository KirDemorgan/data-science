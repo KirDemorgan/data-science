{
 "cells": [
  {
   "cell_type": "markdown",
   "metadata": {},
   "source": [
    "# Задача 4: Расчет переводов между участниками\n",
    "\n",
    "Система для расчета оптимальных переводов денег между участниками группы"
   ]
  },
  {
   "cell_type": "code",
   "execution_count": null,
   "metadata": {},
   "outputs": [],
   "source": [
    "def calculate_transfers(participants, expenses):\n",
    "    total_expenses = {name: 0 for name in participants}\n",
    "    \n",
    "    for name, amount in expenses:\n",
    "        total_expenses[name] += amount\n",
    "    \n",
    "    total_sum = sum(total_expenses.values())\n",
    "    avg_expense = total_sum / len(participants)\n",
    "    \n",
    "    balances = {}\n",
    "    for name in participants:\n",
    "        balances[name] = total_expenses[name] - avg_expense\n",
    "    \n",
    "    return balances, avg_expense"
   ]
  },
  {
   "cell_type": "code",
   "execution_count": null,
   "metadata": {},
   "outputs": [],
   "source": [
    "def optimize_transfers(balances):\n",
    "    debtors = []\n",
    "    creditors = []\n",
    "    \n",
    "    for name, balance in balances.items():\n",
    "        if balance < -0.001:\n",
    "            debtors.append([name, -balance])\n",
    "        elif balance > 0.001:\n",
    "            creditors.append([name, balance])\n",
    "    \n",
    "    debtors.sort()\n",
    "    creditors.sort()\n",
    "    \n",
    "    transfers = []\n",
    "    i, j = 0, 0\n",
    "    \n",
    "    while i < len(debtors) and j < len(creditors):\n",
    "        debtor_name, debt_amount = debtors[i]\n",
    "        creditor_name, credit_amount = creditors[j]\n",
    "        \n",
    "        transfer_amount = min(debt_amount, credit_amount)\n",
    "        transfers.append((debtor_name, creditor_name, transfer_amount))\n",
    "        \n",
    "        debtors[i][1] -= transfer_amount\n",
    "        creditors[j][1] -= transfer_amount\n",
    "        \n",
    "        if debtors[i][1] < 0.001:\n",
    "            i += 1\n",
    "        if creditors[j][1] < 0.001:\n",
    "            j += 1\n",
    "    \n",
    "    return transfers"
   ]
  },
  {
   "cell_type": "code",
   "execution_count": null,
   "metadata": {},
   "outputs": [],
   "source": [
    "participants = []\n",
    "expenses = []\n",
    "\n",
    "try:\n",
    "    n = int(input(\"Количество участников: \"))\n",
    "    if n < 2 or n > 50:\n",
    "        raise ValueError(\"Количество участников должно быть от 2 до 50\")\n",
    "    \n",
    "    for i in range(n):\n",
    "        name = input(f\"Имя участника {i+1}: \").strip()\n",
    "        if not name or len(name) > 50:\n",
    "            raise ValueError(\"Имя не может быть пустым или длиннее 50 символов\")\n",
    "        participants.append(name)\n",
    "    \n",
    "    m = int(input(\"Количество трат: \"))\n",
    "    if m < 1 or m > 100:\n",
    "        raise ValueError(\"Количество трат должно быть от 1 до 100\")\n",
    "    \n",
    "    for i in range(m):\n",
    "        name = input(f\"Кто потратил (трата {i+1}): \").strip()\n",
    "        if name not in participants:\n",
    "            raise ValueError(f\"Участник {name} не найден\")\n",
    "        \n",
    "        amount = float(input(f\"Сумма траты {i+1}: \"))\n",
    "        if amount < 0 or amount > 1000000:\n",
    "            raise ValueError(\"Сумма должна быть от 0 до 1000000\")\n",
    "        \n",
    "        expenses.append((name, amount))\n",
    "    \n",
    "    balances, avg_expense = calculate_transfers(participants, expenses)\n",
    "    \n",
    "    print(f\"\\nСредняя сумма на человека: {avg_expense:.2f}\")\n",
    "    print(\"\\nБалансы участников:\")\n",
    "    for name, balance in balances.items():\n",
    "        if balance > 0:\n",
    "            print(f\"{name}: должен получить {balance:.2f}\")\n",
    "        elif balance < 0:\n",
    "            print(f\"{name}: должен отдать {-balance:.2f}\")\n",
    "        else:\n",
    "            print(f\"{name}: баланс сведен\")\n",
    "            \n",
    "except ValueError as e:\n",
    "    print(f\"Ошибка: {e}\")"
   ]
  },
  {
   "cell_type": "code",
   "execution_count": null,
   "metadata": {},
   "outputs": [],
   "source": [
    "if participants and expenses:\n",
    "    transfers = optimize_transfers(balances)\n",
    "    \n",
    "    print(f\"\\nКоличество необходимых переводов: {len(transfers)}\")\n",
    "    if transfers:\n",
    "        print(\"Список переводов:\")\n",
    "        for debtor, creditor, amount in transfers:\n",
    "            print(f\"{debtor} -> {creditor}: {amount:.2f}\")\n",
    "    else:\n",
    "        print(\"Переводы не требуются\")"
   ]
  }
 ],
 "metadata": {
  "kernelspec": {
   "display_name": "Python 3",
   "language": "python",
   "name": "python3"
  },
  "language_info": {
   "codemirror_mode": {
    "name": "ipython",
    "version": 3
   },
   "file_extension": ".py",
   "mimetype": "text/x-python",
   "name": "python",
   "nbconvert_exporter": "python",
   "pygments_lexer": "ipython3",
   "version": "3.8.0"
  }
 },
 "nbformat": 4,
 "nbformat_minor": 4
}