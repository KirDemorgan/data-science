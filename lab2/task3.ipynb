{
 "cells": [
  {
   "cell_type": "markdown",
   "metadata": {},
   "source": [
    "# Задача 3: Поиск выбросов в данных\n",
    "\n",
    "Анализ данных посещаемости с использованием квартилей и межквартильного размаха"
   ]
  },
  {
   "cell_type": "code",
   "execution_count": null,
   "metadata": {},
   "outputs": [],
   "source": [
    "def find_quartiles(data):\n",
    "    n = len(data)\n",
    "    sorted_data = sorted(data)\n",
    "    \n",
    "    if n % 2 == 1:\n",
    "        q2 = sorted_data[n // 2]\n",
    "        lower_half = sorted_data[:n // 2]\n",
    "        upper_half = sorted_data[n // 2 + 1:]\n",
    "    else:\n",
    "        q2 = (sorted_data[n // 2 - 1] + sorted_data[n // 2]) / 2\n",
    "        lower_half = sorted_data[:n // 2]\n",
    "        upper_half = sorted_data[n // 2:]\n",
    "    \n",
    "    n_lower = len(lower_half)\n",
    "    if n_lower % 2 == 1:\n",
    "        q1 = lower_half[n_lower // 2]\n",
    "    else:\n",
    "        q1 = (lower_half[n_lower // 2 - 1] + lower_half[n_lower // 2]) / 2\n",
    "    \n",
    "    n_upper = len(upper_half)\n",
    "    if n_upper % 2 == 1:\n",
    "        q3 = upper_half[n_upper // 2]\n",
    "    else:\n",
    "        q3 = (upper_half[n_upper // 2 - 1] + upper_half[n_upper // 2]) / 2\n",
    "    \n",
    "    return q1, q2, q3"
   ]
  },
  {
   "cell_type": "code",
   "execution_count": null,
   "metadata": {},
   "outputs": [],
   "source": [
    "def count_outliers(data):\n",
    "    q1, q2, q3 = find_quartiles(data)\n",
    "    iqr = q3 - q1\n",
    "    \n",
    "    lower_bound = q1 - 1.5 * iqr\n",
    "    upper_bound = q3 + 1.5 * iqr\n",
    "    \n",
    "    outliers = 0\n",
    "    for value in data:\n",
    "        if value < lower_bound or value > upper_bound:\n",
    "            outliers += 1\n",
    "    \n",
    "    return outliers"
   ]
  },
  {
   "cell_type": "code",
   "execution_count": null,
   "metadata": {},
   "outputs": [],
   "source": [
    "while True:\n",
    "    try:\n",
    "        data_input = input(\"Введите числа через пробел: \")\n",
    "        \n",
    "        if not data_input.strip():\n",
    "            print(\"Ошибка: введите хотя бы одно число\")\n",
    "            continue\n",
    "        \n",
    "        attendance = [float(x) for x in data_input.split()]\n",
    "        \n",
    "        if len(attendance) < 3:\n",
    "            print(\"Ошибка: нужно минимум 3 числа для анализа\")\n",
    "            continue\n",
    "        \n",
    "        if len(attendance) > 1000:\n",
    "            print(\"Ошибка: слишком много чисел (максимум 1000)\")\n",
    "            continue\n",
    "        \n",
    "        q1, q2, q3 = find_quartiles(attendance)\n",
    "        outliers_count = count_outliers(attendance)\n",
    "        \n",
    "        print(f\"Данные: {attendance}\")\n",
    "        print(f\"Q1 = {q1}, Q2 = {q2}, Q3 = {q3}\")\n",
    "        print(f\"Количество выбросов: {outliers_count}\")\n",
    "        \n",
    "        if input(\"Анализировать другие данные? (y/n): \").lower() != 'y':\n",
    "            break\n",
    "            \n",
    "    except ValueError:\n",
    "        print(\"Ошибка: введите только числа через пробел\")"
   ]
  }
 ],
 "metadata": {
  "kernelspec": {
   "display_name": "Python 3",
   "language": "python",
   "name": "python3"
  },
  "language_info": {
   "codemirror_mode": {
    "name": "ipython",
    "version": 3
   },
   "file_extension": ".py",
   "mimetype": "text/x-python",
   "name": "python",
   "nbconvert_exporter": "python",
   "pygments_lexer": "ipython3",
   "version": "3.8.0"
  }
 },
 "nbformat": 4,
 "nbformat_minor": 4
}