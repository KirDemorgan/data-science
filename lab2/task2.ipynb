{
 "cells": [
  {
   "cell_type": "markdown",
   "metadata": {},
   "source": [
    "# Задача 2: Проверка надежности пароля\n",
    "\n",
    "Функция для проверки соответствия пароля требованиям безопасности"
   ]
  },
  {
   "cell_type": "code",
   "execution_count": null,
   "metadata": {},
   "outputs": [],
   "source": [
    "def is_strong_password(password):\n",
    "    if len(password) < 12:\n",
    "        return False\n",
    "    \n",
    "    has_upper = False\n",
    "    has_lower = False\n",
    "    has_digit = False\n",
    "    has_special = False\n",
    "    \n",
    "    special_chars = set('!@#$%&*+')\n",
    "    \n",
    "    for char in password:\n",
    "        if 'A' <= char <= 'Z':\n",
    "            has_upper = True\n",
    "        elif 'a' <= char <= 'z':\n",
    "            has_lower = True\n",
    "        elif '0' <= char <= '9':\n",
    "            has_digit = True\n",
    "        elif char in special_chars:\n",
    "            has_special = True\n",
    "    \n",
    "    return has_upper and has_lower and has_digit and has_special"
   ]
  },
  {
   "cell_type": "code",
   "execution_count": null,
   "metadata": {},
   "outputs": [],
   "source": [
    "while True:\n",
    "    password = input(\"Введите пароль для проверки: \")\n",
    "    \n",
    "    if not password:\n",
    "        print(\"Ошибка: пароль не может быть пустым\")\n",
    "        continue\n",
    "    \n",
    "    if len(password) > 128:\n",
    "        print(\"Ошибка: пароль слишком длинный (максимум 128 символов)\")\n",
    "        continue\n",
    "    \n",
    "    result = \"Valid\" if is_strong_password(password) else \"Invalid\"\n",
    "    print(f\"Пароль: {result}\")\n",
    "    \n",
    "    if input(\"Проверить еще один пароль? (y/n): \").lower() != 'y':\n",
    "        break"
   ]
  }
 ],
 "metadata": {
  "kernelspec": {
   "display_name": "Python 3",
   "language": "python",
   "name": "python3"
  },
  "language_info": {
   "codemirror_mode": {
    "name": "ipython",
    "version": 3
   },
   "file_extension": ".py",
   "mimetype": "text/x-python",
   "name": "python",
   "nbconvert_exporter": "python",
   "pygments_lexer": "ipython3",
   "version": "3.8.0"
  }
 },
 "nbformat": 4,
 "nbformat_minor": 4
}