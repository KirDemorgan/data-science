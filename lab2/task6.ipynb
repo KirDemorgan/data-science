{
 "cells": [
  {
   "cell_type": "markdown",
   "metadata": {},
   "source": [
    "# Задача 6: Анализ почтового архива\n",
    "\n",
    "Анализ файла mbox для определения самых активных авторов писем"
   ]
  },
  {
   "cell_type": "code",
   "execution_count": null,
   "metadata": {},
   "outputs": [],
   "source": [
    "import requests\n",
    "from collections import defaultdict\n",
    "\n",
    "url = input(\"Введите URL файла mbox (или нажмите Enter для использования по умолчанию): \").strip()\n",
    "if not url:\n",
    "    url = 'http://www.py4inf.com/code/mbox.txt'\n",
    "\n",
    "try:\n",
    "    print(\"Загружаем данные с сервера...\")\n",
    "    response = requests.get(url, timeout=30)\n",
    "    response.raise_for_status()\n",
    "    mbox = response.text\n",
    "    all_lines = mbox.split('\\n')\n",
    "    \n",
    "    print(f\"Загружено {len(all_lines)} строк\")\n",
    "    \n",
    "except requests.RequestException as e:\n",
    "    print(f\"Ошибка загрузки: {e}\")\n",
    "    all_lines = []"
   ]
  },
  {
   "cell_type": "code",
   "execution_count": null,
   "metadata": {},
   "outputs": [],
   "source": [
    "if all_lines:\n",
    "    author_counts = defaultdict(int)\n",
    "    from_lines = 0\n",
    "    \n",
    "    for line in all_lines:\n",
    "        if line.startswith(\"From \"):\n",
    "            from_lines += 1\n",
    "            parts = line.split()\n",
    "            if len(parts) >= 2:\n",
    "                email = parts[1]\n",
    "                author_counts[email] += 1\n",
    "    \n",
    "    print(f\"Найдено {from_lines} строк с 'From '\")\n",
    "    print(f\"Найдено {len(author_counts)} уникальных авторов\")"
   ]
  },
  {
   "cell_type": "code",
   "execution_count": null,
   "metadata": {},
   "outputs": [],
   "source": [
    "if all_lines and author_counts:\n",
    "    try:\n",
    "        top_n = int(input(\"Сколько топ авторов показать (по умолчанию 10): \") or \"10\")\n",
    "        if top_n < 1 or top_n > 100:\n",
    "            top_n = 10\n",
    "    except ValueError:\n",
    "        top_n = 10\n",
    "    \n",
    "    sorted_authors = sorted(author_counts.items(), key=lambda x: x[1], reverse=True)\n",
    "    \n",
    "    print(f\"Топ-{top_n} самых активных авторов:\")\n",
    "    for i, (email, count) in enumerate(sorted_authors[:top_n], 1):\n",
    "        print(f\"{i:2d}. {email}: {count} писем\")"
   ]
  },
  {
   "cell_type": "code",
   "execution_count": null,
   "metadata": {},
   "outputs": [],
   "source": [
    "if all_lines and author_counts and sorted_authors:\n",
    "    most_active_author = sorted_authors[0]\n",
    "    total_emails = sum(count for _, count in author_counts.items())\n",
    "    percentage = (most_active_author[1] / total_emails) * 100\n",
    "    \n",
    "    print(f\"\\nСамый активный автор:\")\n",
    "    print(f\"Email: {most_active_author[0]}\")\n",
    "    print(f\"Количество писем: {most_active_author[1]}\")\n",
    "    print(f\"Процент от общего количества: {percentage:.1f}%\")\n",
    "    print(f\"Общее количество писем в архиве: {total_emails}\")"
   ]
  }
 ],
 "metadata": {
  "kernelspec": {
   "display_name": "Python 3",
   "language": "python",
   "name": "python3"
  },
  "language_info": {
   "codemirror_mode": {
    "name": "ipython",
    "version": 3
   },
   "file_extension": ".py",
   "mimetype": "text/x-python",
   "name": "python",
   "nbconvert_exporter": "python",
   "pygments_lexer": "ipython3",
   "version": "3.8.0"
  }
 },
 "nbformat": 4,
 "nbformat_minor": 4
}