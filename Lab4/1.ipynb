{
 "cells": [
  {
   "cell_type": "code",
   "id": "0a19a749",
   "metadata": {
    "ExecuteTime": {
     "end_time": "2025-10-29T16:15:18.513154Z",
     "start_time": "2025-10-29T16:15:16.628775Z"
    }
   },
   "source": [
    "import numpy as np\n",
    "import pandas as pd\n",
    "import matplotlib.pyplot as plt\n",
    "\n",
    "plt.style.use('seaborn-v0_8-whitegrid')"
   ],
   "outputs": [],
   "execution_count": 1
  },
  {
   "cell_type": "code",
   "id": "874cd920",
   "metadata": {
    "ExecuteTime": {
     "end_time": "2025-10-29T16:15:18.551704Z",
     "start_time": "2025-10-29T16:15:18.517940Z"
    }
   },
   "source": [
    "\n",
    "M = 1.0\n",
    "s = 1.0\n",
    "N = 1000\n",
    "\n",
    "\n",
    "numbers = pd.Series(np.random.normal(loc=M, scale=s, size=N))\n",
    "print(\"Первые 5 сгенерированных значений:\")\n",
    "print(numbers.head())"
   ],
   "outputs": [
    {
     "name": "stdout",
     "output_type": "stream",
     "text": [
      "Первые 5 сгенерированных значений:\n",
      "0    2.207809\n",
      "1    1.728739\n",
      "2    1.244333\n",
      "3    0.315589\n",
      "4    1.504388\n",
      "dtype: float64\n"
     ]
    }
   ],
   "execution_count": 2
  },
  {
   "cell_type": "code",
   "id": "48613d56",
   "metadata": {
    "ExecuteTime": {
     "end_time": "2025-10-29T16:15:18.559530Z",
     "start_time": "2025-10-29T16:15:18.556563Z"
    }
   },
   "source": [
    "\n",
    "share_in_1s = numbers[(numbers > M - s) & (numbers < M + s)].count() / N\n",
    "print(f\"Доля значений в диапазоне (M-s, M+s): {share_in_1s:.4f} или {share_in_1s:.2%}\")"
   ],
   "outputs": [
    {
     "name": "stdout",
     "output_type": "stream",
     "text": [
      "Доля значений в диапазоне (M-s, M+s): 0.6970 или 69.70%\n"
     ]
    }
   ],
   "execution_count": 3
  },
  {
   "cell_type": "code",
   "id": "18a9633d",
   "metadata": {
    "ExecuteTime": {
     "end_time": "2025-10-29T16:15:18.587169Z",
     "start_time": "2025-10-29T16:15:18.583837Z"
    }
   },
   "source": [
    "\n",
    "share_in_3s = numbers[(numbers > M - 3*s) & (numbers < M + 3*s)].count() / N\n",
    "print(f\"Доля значений в диапазоне (M-3s, M+3s): {share_in_3s:.4f} или {share_in_3s:.2%}\")"
   ],
   "outputs": [
    {
     "name": "stdout",
     "output_type": "stream",
     "text": [
      "Доля значений в диапазоне (M-3s, M+3s): 0.9970 или 99.70%\n"
     ]
    }
   ],
   "execution_count": 4
  },
  {
   "cell_type": "code",
   "id": "3dee3823",
   "metadata": {
    "ExecuteTime": {
     "end_time": "2025-10-29T16:15:18.621624Z",
     "start_time": "2025-10-29T16:15:18.617133Z"
    }
   },
   "source": [
    "\n",
    "roots = numbers.apply(np.sqrt)\n",
    "print(\"Первые 5 значений после извлечения корня:\")\n",
    "print(roots.head())"
   ],
   "outputs": [
    {
     "name": "stdout",
     "output_type": "stream",
     "text": [
      "Первые 5 значений после извлечения корня:\n",
      "0    1.485870\n",
      "1    1.314815\n",
      "2    1.115497\n",
      "3    0.561773\n",
      "4    1.226535\n",
      "dtype: float64\n"
     ]
    }
   ],
   "execution_count": 5
  },
  {
   "cell_type": "code",
   "id": "66aa6052",
   "metadata": {
    "ExecuteTime": {
     "end_time": "2025-10-29T16:15:18.673258Z",
     "start_time": "2025-10-29T16:15:18.670162Z"
    }
   },
   "source": [
    "mean_of_roots = roots.mean()\n",
    "print(f\"Среднее арифметическое для получившихся значений: {mean_of_roots:.4f}\")"
   ],
   "outputs": [
    {
     "name": "stdout",
     "output_type": "stream",
     "text": [
      "Среднее арифметическое для получившихся значений: 1.0576\n"
     ]
    }
   ],
   "execution_count": 6
  },
  {
   "cell_type": "code",
   "id": "9325ac0b",
   "metadata": {
    "ExecuteTime": {
     "end_time": "2025-10-29T16:15:18.723485Z",
     "start_time": "2025-10-29T16:15:18.692165Z"
    }
   },
   "source": [
    "\n",
    "df = pd.DataFrame({'number': numbers, 'root': roots})\n",
    "\n",
    "print(\"Первые 6 строк созданного датафрейма:\")\n",
    "display(df.head(6))"
   ],
   "outputs": [
    {
     "name": "stdout",
     "output_type": "stream",
     "text": [
      "Первые 6 строк созданного датафрейма:\n"
     ]
    },
    {
     "data": {
      "text/plain": [
       "     number      root\n",
       "0  2.207809  1.485870\n",
       "1  1.728739  1.314815\n",
       "2  1.244333  1.115497\n",
       "3  0.315589  0.561773\n",
       "4  1.504388  1.226535\n",
       "5  0.692683  0.832276"
      ],
      "text/html": [
       "<div>\n",
       "<style scoped>\n",
       "    .dataframe tbody tr th:only-of-type {\n",
       "        vertical-align: middle;\n",
       "    }\n",
       "\n",
       "    .dataframe tbody tr th {\n",
       "        vertical-align: top;\n",
       "    }\n",
       "\n",
       "    .dataframe thead th {\n",
       "        text-align: right;\n",
       "    }\n",
       "</style>\n",
       "<table border=\"1\" class=\"dataframe\">\n",
       "  <thead>\n",
       "    <tr style=\"text-align: right;\">\n",
       "      <th></th>\n",
       "      <th>number</th>\n",
       "      <th>root</th>\n",
       "    </tr>\n",
       "  </thead>\n",
       "  <tbody>\n",
       "    <tr>\n",
       "      <th>0</th>\n",
       "      <td>2.207809</td>\n",
       "      <td>1.485870</td>\n",
       "    </tr>\n",
       "    <tr>\n",
       "      <th>1</th>\n",
       "      <td>1.728739</td>\n",
       "      <td>1.314815</td>\n",
       "    </tr>\n",
       "    <tr>\n",
       "      <th>2</th>\n",
       "      <td>1.244333</td>\n",
       "      <td>1.115497</td>\n",
       "    </tr>\n",
       "    <tr>\n",
       "      <th>3</th>\n",
       "      <td>0.315589</td>\n",
       "      <td>0.561773</td>\n",
       "    </tr>\n",
       "    <tr>\n",
       "      <th>4</th>\n",
       "      <td>1.504388</td>\n",
       "      <td>1.226535</td>\n",
       "    </tr>\n",
       "    <tr>\n",
       "      <th>5</th>\n",
       "      <td>0.692683</td>\n",
       "      <td>0.832276</td>\n",
       "    </tr>\n",
       "  </tbody>\n",
       "</table>\n",
       "</div>"
      ]
     },
     "metadata": {},
     "output_type": "display_data"
    }
   ],
   "execution_count": 7
  },
  {
   "cell_type": "code",
   "id": "08b0f1d5",
   "metadata": {
    "ExecuteTime": {
     "end_time": "2025-10-29T16:15:18.783200Z",
     "start_time": "2025-10-29T16:15:18.755897Z"
    }
   },
   "source": [
    "\n",
    "filtered_df = df.query('1.8 <= root <= 1.9')\n",
    "\n",
    "print(\"Записи, где значение 'root' находится в диапазоне от 1.8 до 1.9:\")\n",
    "display(filtered_df)"
   ],
   "outputs": [
    {
     "name": "stdout",
     "output_type": "stream",
     "text": [
      "Записи, где значение 'root' находится в диапазоне от 1.8 до 1.9:\n"
     ]
    },
    {
     "data": {
      "text/plain": [
       "       number      root\n",
       "102  3.319989  1.822084\n",
       "250  3.589440  1.894582\n",
       "258  3.366358  1.834764\n",
       "320  3.575653  1.890940\n",
       "366  3.328857  1.824515\n",
       "530  3.256963  1.804706\n",
       "566  3.539603  1.881383\n",
       "687  3.279486  1.810935\n",
       "787  3.329113  1.824586\n",
       "978  3.261711  1.806021"
      ],
      "text/html": [
       "<div>\n",
       "<style scoped>\n",
       "    .dataframe tbody tr th:only-of-type {\n",
       "        vertical-align: middle;\n",
       "    }\n",
       "\n",
       "    .dataframe tbody tr th {\n",
       "        vertical-align: top;\n",
       "    }\n",
       "\n",
       "    .dataframe thead th {\n",
       "        text-align: right;\n",
       "    }\n",
       "</style>\n",
       "<table border=\"1\" class=\"dataframe\">\n",
       "  <thead>\n",
       "    <tr style=\"text-align: right;\">\n",
       "      <th></th>\n",
       "      <th>number</th>\n",
       "      <th>root</th>\n",
       "    </tr>\n",
       "  </thead>\n",
       "  <tbody>\n",
       "    <tr>\n",
       "      <th>102</th>\n",
       "      <td>3.319989</td>\n",
       "      <td>1.822084</td>\n",
       "    </tr>\n",
       "    <tr>\n",
       "      <th>250</th>\n",
       "      <td>3.589440</td>\n",
       "      <td>1.894582</td>\n",
       "    </tr>\n",
       "    <tr>\n",
       "      <th>258</th>\n",
       "      <td>3.366358</td>\n",
       "      <td>1.834764</td>\n",
       "    </tr>\n",
       "    <tr>\n",
       "      <th>320</th>\n",
       "      <td>3.575653</td>\n",
       "      <td>1.890940</td>\n",
       "    </tr>\n",
       "    <tr>\n",
       "      <th>366</th>\n",
       "      <td>3.328857</td>\n",
       "      <td>1.824515</td>\n",
       "    </tr>\n",
       "    <tr>\n",
       "      <th>530</th>\n",
       "      <td>3.256963</td>\n",
       "      <td>1.804706</td>\n",
       "    </tr>\n",
       "    <tr>\n",
       "      <th>566</th>\n",
       "      <td>3.539603</td>\n",
       "      <td>1.881383</td>\n",
       "    </tr>\n",
       "    <tr>\n",
       "      <th>687</th>\n",
       "      <td>3.279486</td>\n",
       "      <td>1.810935</td>\n",
       "    </tr>\n",
       "    <tr>\n",
       "      <th>787</th>\n",
       "      <td>3.329113</td>\n",
       "      <td>1.824586</td>\n",
       "    </tr>\n",
       "    <tr>\n",
       "      <th>978</th>\n",
       "      <td>3.261711</td>\n",
       "      <td>1.806021</td>\n",
       "    </tr>\n",
       "  </tbody>\n",
       "</table>\n",
       "</div>"
      ]
     },
     "metadata": {},
     "output_type": "display_data"
    }
   ],
   "execution_count": 8
  },
  {
   "cell_type": "code",
   "id": "cf1d9496",
   "metadata": {
    "ExecuteTime": {
     "end_time": "2025-10-29T16:15:18.852883Z",
     "start_time": "2025-10-29T16:15:18.846621Z"
    }
   },
   "source": [
    "\n",
    "filtered_df = df.query('1.8 <= root <= 1.9')\n",
    "\n",
    "print(\"Записи, где значение 'root' находится в диапазоне от 1.8 до 1.9:\")\n",
    "display(filtered_df)"
   ],
   "outputs": [
    {
     "name": "stdout",
     "output_type": "stream",
     "text": [
      "Записи, где значение 'root' находится в диапазоне от 1.8 до 1.9:\n"
     ]
    },
    {
     "data": {
      "text/plain": [
       "       number      root\n",
       "102  3.319989  1.822084\n",
       "250  3.589440  1.894582\n",
       "258  3.366358  1.834764\n",
       "320  3.575653  1.890940\n",
       "366  3.328857  1.824515\n",
       "530  3.256963  1.804706\n",
       "566  3.539603  1.881383\n",
       "687  3.279486  1.810935\n",
       "787  3.329113  1.824586\n",
       "978  3.261711  1.806021"
      ],
      "text/html": [
       "<div>\n",
       "<style scoped>\n",
       "    .dataframe tbody tr th:only-of-type {\n",
       "        vertical-align: middle;\n",
       "    }\n",
       "\n",
       "    .dataframe tbody tr th {\n",
       "        vertical-align: top;\n",
       "    }\n",
       "\n",
       "    .dataframe thead th {\n",
       "        text-align: right;\n",
       "    }\n",
       "</style>\n",
       "<table border=\"1\" class=\"dataframe\">\n",
       "  <thead>\n",
       "    <tr style=\"text-align: right;\">\n",
       "      <th></th>\n",
       "      <th>number</th>\n",
       "      <th>root</th>\n",
       "    </tr>\n",
       "  </thead>\n",
       "  <tbody>\n",
       "    <tr>\n",
       "      <th>102</th>\n",
       "      <td>3.319989</td>\n",
       "      <td>1.822084</td>\n",
       "    </tr>\n",
       "    <tr>\n",
       "      <th>250</th>\n",
       "      <td>3.589440</td>\n",
       "      <td>1.894582</td>\n",
       "    </tr>\n",
       "    <tr>\n",
       "      <th>258</th>\n",
       "      <td>3.366358</td>\n",
       "      <td>1.834764</td>\n",
       "    </tr>\n",
       "    <tr>\n",
       "      <th>320</th>\n",
       "      <td>3.575653</td>\n",
       "      <td>1.890940</td>\n",
       "    </tr>\n",
       "    <tr>\n",
       "      <th>366</th>\n",
       "      <td>3.328857</td>\n",
       "      <td>1.824515</td>\n",
       "    </tr>\n",
       "    <tr>\n",
       "      <th>530</th>\n",
       "      <td>3.256963</td>\n",
       "      <td>1.804706</td>\n",
       "    </tr>\n",
       "    <tr>\n",
       "      <th>566</th>\n",
       "      <td>3.539603</td>\n",
       "      <td>1.881383</td>\n",
       "    </tr>\n",
       "    <tr>\n",
       "      <th>687</th>\n",
       "      <td>3.279486</td>\n",
       "      <td>1.810935</td>\n",
       "    </tr>\n",
       "    <tr>\n",
       "      <th>787</th>\n",
       "      <td>3.329113</td>\n",
       "      <td>1.824586</td>\n",
       "    </tr>\n",
       "    <tr>\n",
       "      <th>978</th>\n",
       "      <td>3.261711</td>\n",
       "      <td>1.806021</td>\n",
       "    </tr>\n",
       "  </tbody>\n",
       "</table>\n",
       "</div>"
      ]
     },
     "metadata": {},
     "output_type": "display_data"
    }
   ],
   "execution_count": 9
  },
  {
   "cell_type": "markdown",
   "id": "6795e220",
   "metadata": {},
   "source": [
    "# Часть 2"
   ]
  },
  {
   "cell_type": "code",
   "id": "36dfbed0",
   "metadata": {
    "ExecuteTime": {
     "end_time": "2025-10-29T16:15:19.331344Z",
     "start_time": "2025-10-29T16:15:18.953136Z"
    }
   },
   "source": [
    "try:\n",
    "\n",
    "    df_athletes = pd.read_csv('data/athlete_events.csv')\n",
    "    print(\"Данные успешно загружены. Размер датафрейма:\", df_athletes.shape)\n",
    "except FileNotFoundError:\n",
    "    print(\"Ошибка: файл 'data/athlete_events.csv' не найден.\")\n",
    "    df_athletes = pd.DataFrame()"
   ],
   "outputs": [
    {
     "name": "stdout",
     "output_type": "stream",
     "text": [
      "Данные успешно загружены. Размер датафрейма: (271116, 15)\n"
     ]
    }
   ],
   "execution_count": 10
  },
  {
   "cell_type": "code",
   "id": "2235bc7a",
   "metadata": {
    "ExecuteTime": {
     "end_time": "2025-10-29T16:15:19.442084Z",
     "start_time": "2025-10-29T16:15:19.336339Z"
    }
   },
   "source": [
    "print(\"Информация о наличии данных в столбцах:\")\n",
    "df_athletes.info()"
   ],
   "outputs": [
    {
     "name": "stdout",
     "output_type": "stream",
     "text": [
      "Информация о наличии данных в столбцах:\n",
      "<class 'pandas.core.frame.DataFrame'>\n",
      "RangeIndex: 271116 entries, 0 to 271115\n",
      "Data columns (total 15 columns):\n",
      " #   Column  Non-Null Count   Dtype  \n",
      "---  ------  --------------   -----  \n",
      " 0   ID      271116 non-null  int64  \n",
      " 1   Name    271116 non-null  object \n",
      " 2   Sex     271116 non-null  object \n",
      " 3   Age     261642 non-null  float64\n",
      " 4   Height  210945 non-null  float64\n",
      " 5   Weight  208241 non-null  float64\n",
      " 6   Team    271116 non-null  object \n",
      " 7   NOC     271116 non-null  object \n",
      " 8   Games   271116 non-null  object \n",
      " 9   Year    271116 non-null  int64  \n",
      " 10  Season  271116 non-null  object \n",
      " 11  City    271116 non-null  object \n",
      " 12  Sport   271116 non-null  object \n",
      " 13  Event   271116 non-null  object \n",
      " 14  Medal   39783 non-null   object \n",
      "dtypes: float64(3), int64(2), object(10)\n",
      "memory usage: 31.0+ MB\n"
     ]
    }
   ],
   "execution_count": 11
  },
  {
   "cell_type": "code",
   "id": "d678a322",
   "metadata": {
    "ExecuteTime": {
     "end_time": "2025-10-29T16:15:19.503557Z",
     "start_time": "2025-10-29T16:15:19.447963Z"
    }
   },
   "source": [
    "print(\"Статистическая информация по полям: возраст, рост, вес\")\n",
    "display(df_athletes[['Age', 'Height', 'Weight']].describe())"
   ],
   "outputs": [
    {
     "name": "stdout",
     "output_type": "stream",
     "text": [
      "Статистическая информация по полям: возраст, рост, вес\n"
     ]
    },
    {
     "data": {
      "text/plain": [
       "                 Age         Height         Weight\n",
       "count  261642.000000  210945.000000  208241.000000\n",
       "mean       25.556898     175.338970      70.702393\n",
       "std         6.393561      10.518462      14.348020\n",
       "min        10.000000     127.000000      25.000000\n",
       "25%        21.000000     168.000000      60.000000\n",
       "50%        24.000000     175.000000      70.000000\n",
       "75%        28.000000     183.000000      79.000000\n",
       "max        97.000000     226.000000     214.000000"
      ],
      "text/html": [
       "<div>\n",
       "<style scoped>\n",
       "    .dataframe tbody tr th:only-of-type {\n",
       "        vertical-align: middle;\n",
       "    }\n",
       "\n",
       "    .dataframe tbody tr th {\n",
       "        vertical-align: top;\n",
       "    }\n",
       "\n",
       "    .dataframe thead th {\n",
       "        text-align: right;\n",
       "    }\n",
       "</style>\n",
       "<table border=\"1\" class=\"dataframe\">\n",
       "  <thead>\n",
       "    <tr style=\"text-align: right;\">\n",
       "      <th></th>\n",
       "      <th>Age</th>\n",
       "      <th>Height</th>\n",
       "      <th>Weight</th>\n",
       "    </tr>\n",
       "  </thead>\n",
       "  <tbody>\n",
       "    <tr>\n",
       "      <th>count</th>\n",
       "      <td>261642.000000</td>\n",
       "      <td>210945.000000</td>\n",
       "      <td>208241.000000</td>\n",
       "    </tr>\n",
       "    <tr>\n",
       "      <th>mean</th>\n",
       "      <td>25.556898</td>\n",
       "      <td>175.338970</td>\n",
       "      <td>70.702393</td>\n",
       "    </tr>\n",
       "    <tr>\n",
       "      <th>std</th>\n",
       "      <td>6.393561</td>\n",
       "      <td>10.518462</td>\n",
       "      <td>14.348020</td>\n",
       "    </tr>\n",
       "    <tr>\n",
       "      <th>min</th>\n",
       "      <td>10.000000</td>\n",
       "      <td>127.000000</td>\n",
       "      <td>25.000000</td>\n",
       "    </tr>\n",
       "    <tr>\n",
       "      <th>25%</th>\n",
       "      <td>21.000000</td>\n",
       "      <td>168.000000</td>\n",
       "      <td>60.000000</td>\n",
       "    </tr>\n",
       "    <tr>\n",
       "      <th>50%</th>\n",
       "      <td>24.000000</td>\n",
       "      <td>175.000000</td>\n",
       "      <td>70.000000</td>\n",
       "    </tr>\n",
       "    <tr>\n",
       "      <th>75%</th>\n",
       "      <td>28.000000</td>\n",
       "      <td>183.000000</td>\n",
       "      <td>79.000000</td>\n",
       "    </tr>\n",
       "    <tr>\n",
       "      <th>max</th>\n",
       "      <td>97.000000</td>\n",
       "      <td>226.000000</td>\n",
       "      <td>214.000000</td>\n",
       "    </tr>\n",
       "  </tbody>\n",
       "</table>\n",
       "</div>"
      ]
     },
     "metadata": {},
     "output_type": "display_data"
    }
   ],
   "execution_count": 12
  },
  {
   "cell_type": "code",
   "id": "3573d860",
   "metadata": {
    "ExecuteTime": {
     "end_time": "2025-10-29T16:15:19.551365Z",
     "start_time": "2025-10-29T16:15:19.532705Z"
    }
   },
   "source": [
    "df_1992 = df_athletes[df_athletes['Year'] == 1992]\n",
    "youngest = df_1992.loc[df_1992['Age'].idxmin()]\n",
    "\n",
    "print(f\"Самому молодому участнику в 1992 году было: {int(youngest['Age'])} лет.\")\n",
    "print(f\"Имя: {youngest['Name']}\")\n",
    "print(f\"Дисциплина: {youngest['Event']}\")"
   ],
   "outputs": [
    {
     "name": "stdout",
     "output_type": "stream",
     "text": [
      "Самому молодому участнику в 1992 году было: 11 лет.\n",
      "Имя: Carlos Bienvenido Front Barrera\n",
      "Дисциплина: Rowing Men's Coxed Eights\n"
     ]
    }
   ],
   "execution_count": 13
  },
  {
   "cell_type": "code",
   "id": "8edc21a0",
   "metadata": {
    "ExecuteTime": {
     "end_time": "2025-10-29T16:15:19.622962Z",
     "start_time": "2025-10-29T16:15:19.610506Z"
    }
   },
   "source": [
    "all_sports = df_athletes['Sport'].unique()\n",
    "print(f\"Всего уникальных видов спорта: {len(all_sports)}\")\n",
    "print(\"Пример нескольких видов спорта:\", all_sports[:10])"
   ],
   "outputs": [
    {
     "name": "stdout",
     "output_type": "stream",
     "text": [
      "Всего уникальных видов спорта: 66\n",
      "Пример нескольких видов спорта: ['Basketball' 'Judo' 'Football' 'Tug-Of-War' 'Speed Skating'\n",
      " 'Cross Country Skiing' 'Athletics' 'Ice Hockey' 'Swimming' 'Badminton']\n"
     ]
    }
   ],
   "execution_count": 14
  },
  {
   "cell_type": "code",
   "id": "541bcec3",
   "metadata": {
    "ExecuteTime": {
     "end_time": "2025-10-29T16:15:19.673543Z",
     "start_time": "2025-10-29T16:15:19.647909Z"
    }
   },
   "source": [
    "avg_height = df_athletes[\n",
    "    (df_athletes['Year'] == 2000) &\n",
    "    (df_athletes['Sex'] == 'F') &\n",
    "    (df_athletes['Sport'] == 'Tennis')\n",
    "]['Height'].mean()\n",
    "print(f\"Средний рост теннисисток на ОИ 2000 года: {avg_height:.2f} см\")"
   ],
   "outputs": [
    {
     "name": "stdout",
     "output_type": "stream",
     "text": [
      "Средний рост теннисисток на ОИ 2000 года: 171.79 см\n"
     ]
    }
   ],
   "execution_count": 15
  },
  {
   "cell_type": "code",
   "id": "8f7e02c6",
   "metadata": {
    "ExecuteTime": {
     "end_time": "2025-10-29T16:15:19.715537Z",
     "start_time": "2025-10-29T16:15:19.681474Z"
    }
   },
   "source": [
    "gold_medals_china = df_athletes[\n",
    "    (df_athletes['NOC'] == 'CHN') &\n",
    "    (df_athletes['Year'] == 2008) &\n",
    "    (df_athletes['Sport'] == 'Table Tennis') &\n",
    "    (df_athletes['Medal'] == 'Gold')\n",
    "].shape[0]\n",
    "print(f\"Китай выиграл {gold_medals_china} золотых медалей в настольном теннисе на ОИ 2008.\")"
   ],
   "outputs": [
    {
     "name": "stdout",
     "output_type": "stream",
     "text": [
      "Китай выиграл 8 золотых медалей в настольном теннисе на ОИ 2008.\n"
     ]
    }
   ],
   "execution_count": 16
  },
  {
   "cell_type": "code",
   "id": "660f882c",
   "metadata": {
    "ExecuteTime": {
     "end_time": "2025-10-29T16:15:19.756599Z",
     "start_time": "2025-10-29T16:15:19.721643Z"
    }
   },
   "source": [
    "sports_2004 = df_athletes[(df_athletes['Year'] == 2004) & (df_athletes['Season'] == 'Summer')]['Sport'].nunique()\n",
    "sports_1988 = df_athletes[(df_athletes['Year'] == 1988) & (df_athletes['Season'] == 'Summer')]['Sport'].nunique()\n",
    "print(f\"На летних ОИ 2004 года было {sports_2004} видов спорта, а в 1988 - {sports_1988}.\")\n",
    "print(f\"Изменение: {sports_2004 - sports_1988} видов спорта.\")"
   ],
   "outputs": [
    {
     "name": "stdout",
     "output_type": "stream",
     "text": [
      "На летних ОИ 2004 года было 34 видов спорта, а в 1988 - 27.\n",
      "Изменение: 7 видов спорта.\n"
     ]
    }
   ],
   "execution_count": 17
  },
  {
   "cell_type": "code",
   "id": "dd55b3d3",
   "metadata": {
    "ExecuteTime": {
     "end_time": "2025-10-29T16:15:20.032425Z",
     "start_time": "2025-10-29T16:15:19.762207Z"
    }
   },
   "source": [
    "df_curling_2014 = df_athletes[\n",
    "    (df_athletes['Sport'] == 'Curling') &\n",
    "    (df_athletes['Sex'] == 'M') &\n",
    "    (df_athletes['Year'] == 2014)\n",
    "]\n",
    "\n",
    "plt.figure(figsize=(10, 6))\n",
    "plt.hist(df_curling_2014['Age'].dropna(), bins=10, edgecolor='black')\n",
    "plt.title('Распределение возраста мужчин-керлингистов на ОИ 2014')\n",
    "plt.xlabel('Возраст')\n",
    "plt.ylabel('Количество спортсменов')\n",
    "plt.show()"
   ],
   "outputs": [
    {
     "data": {
      "text/plain": [
       "<Figure size 1000x600 with 1 Axes>"
      ],
      "image/png": "[encoded data removed]"
     },
     "metadata": {},
     "output_type": "display_data"
    }
   ],
   "execution_count": 18
  },
  {
   "cell_type": "code",
   "id": "5e944c24",
   "metadata": {
    "ExecuteTime": {
     "end_time": "2025-10-29T16:15:20.063456Z",
     "start_time": "2025-10-29T16:15:20.038033Z"
    }
   },
   "source": [
    "df_2006_winter = df_athletes[(df_athletes['Year'] == 2006) & (df_athletes['Season'] == 'Winter')]\n",
    "df_2006_medals = df_2006_winter.dropna(subset=['Medal'])\n",
    "\n",
    "country_stats_2006 = df_2006_medals.groupby('NOC').agg(\n",
    "    MedalCount=('Medal', 'count'),\n",
    "    AverageAge=('Age', 'mean')\n",
    ").sort_values(by='MedalCount', ascending=False)\n",
    "\n",
    "print(\"Количество медалей и средний возраст по странам (ОИ 2006, Зима):\")\n",
    "display(country_stats_2006.head(10))"
   ],
   "outputs": [
    {
     "name": "stdout",
     "output_type": "stream",
     "text": [
      "Количество медалей и средний возраст по странам (ОИ 2006, Зима):\n"
     ]
    },
    {
     "data": {
      "text/plain": [
       "     MedalCount  AverageAge\n",
       "NOC                        \n",
       "CAN          69   27.449275\n",
       "SWE          64   27.187500\n",
       "GER          54   28.777778\n",
       "USA          52   24.519231\n",
       "RUS          41   28.024390\n",
       "FIN          41   28.195122\n",
       "AUT          30   27.333333\n",
       "CZE          27   29.814815\n",
       "ITA          25   29.360000\n",
       "NOR          23   29.782609"
      ],
      "text/html": [
       "<div>\n",
       "<style scoped>\n",
       "    .dataframe tbody tr th:only-of-type {\n",
       "        vertical-align: middle;\n",
       "    }\n",
       "\n",
       "    .dataframe tbody tr th {\n",
       "        vertical-align: top;\n",
       "    }\n",
       "\n",
       "    .dataframe thead th {\n",
       "        text-align: right;\n",
       "    }\n",
       "</style>\n",
       "<table border=\"1\" class=\"dataframe\">\n",
       "  <thead>\n",
       "    <tr style=\"text-align: right;\">\n",
       "      <th></th>\n",
       "      <th>MedalCount</th>\n",
       "      <th>AverageAge</th>\n",
       "    </tr>\n",
       "    <tr>\n",
       "      <th>NOC</th>\n",
       "      <th></th>\n",
       "      <th></th>\n",
       "    </tr>\n",
       "  </thead>\n",
       "  <tbody>\n",
       "    <tr>\n",
       "      <th>CAN</th>\n",
       "      <td>69</td>\n",
       "      <td>27.449275</td>\n",
       "    </tr>\n",
       "    <tr>\n",
       "      <th>SWE</th>\n",
       "      <td>64</td>\n",
       "      <td>27.187500</td>\n",
       "    </tr>\n",
       "    <tr>\n",
       "      <th>GER</th>\n",
       "      <td>54</td>\n",
       "      <td>28.777778</td>\n",
       "    </tr>\n",
       "    <tr>\n",
       "      <th>USA</th>\n",
       "      <td>52</td>\n",
       "      <td>24.519231</td>\n",
       "    </tr>\n",
       "    <tr>\n",
       "      <th>RUS</th>\n",
       "      <td>41</td>\n",
       "      <td>28.024390</td>\n",
       "    </tr>\n",
       "    <tr>\n",
       "      <th>FIN</th>\n",
       "      <td>41</td>\n",
       "      <td>28.195122</td>\n",
       "    </tr>\n",
       "    <tr>\n",
       "      <th>AUT</th>\n",
       "      <td>30</td>\n",
       "      <td>27.333333</td>\n",
       "    </tr>\n",
       "    <tr>\n",
       "      <th>CZE</th>\n",
       "      <td>27</td>\n",
       "      <td>29.814815</td>\n",
       "    </tr>\n",
       "    <tr>\n",
       "      <th>ITA</th>\n",
       "      <td>25</td>\n",
       "      <td>29.360000</td>\n",
       "    </tr>\n",
       "    <tr>\n",
       "      <th>NOR</th>\n",
       "      <td>23</td>\n",
       "      <td>29.782609</td>\n",
       "    </tr>\n",
       "  </tbody>\n",
       "</table>\n",
       "</div>"
      ]
     },
     "metadata": {},
     "output_type": "display_data"
    }
   ],
   "execution_count": 19
  },
  {
   "cell_type": "code",
   "id": "2028a99c",
   "metadata": {
    "ExecuteTime": {
     "end_time": "2025-10-29T16:15:20.112583Z",
     "start_time": "2025-10-29T16:15:20.095756Z"
    }
   },
   "source": [
    "\n",
    "pivot_table_2006 = pd.pivot_table(\n",
    "    df_2006_medals,\n",
    "    values='ID',\n",
    "    index='NOC',\n",
    "    columns='Medal',\n",
    "    aggfunc='count',\n",
    "    fill_value=0\n",
    ")\n",
    "\n",
    "pivot_table_2006 = pivot_table_2006[['Gold', 'Silver', 'Bronze']]\n",
    "\n",
    "print(\"Сводная таблица по медалям (ОИ 2006, Зима):\")\n",
    "display(pivot_table_2006.head(10))"
   ],
   "outputs": [
    {
     "name": "stdout",
     "output_type": "stream",
     "text": [
      "Сводная таблица по медалям (ОИ 2006, Зима):\n"
     ]
    },
    {
     "data": {
      "text/plain": [
       "Medal  Gold  Silver  Bronze\n",
       "NOC                        \n",
       "AUS       1       0       1\n",
       "AUT      16       7       7\n",
       "BLR       0       1       0\n",
       "BUL       0       1       0\n",
       "CAN      30      28      11\n",
       "CHN       2       5       6\n",
       "CRO       1       2       0\n",
       "CZE       1       2      24\n",
       "EST       3       0       0\n",
       "FIN       0      34       7"
      ],
      "text/html": [
       "<div>\n",
       "<style scoped>\n",
       "    .dataframe tbody tr th:only-of-type {\n",
       "        vertical-align: middle;\n",
       "    }\n",
       "\n",
       "    .dataframe tbody tr th {\n",
       "        vertical-align: top;\n",
       "    }\n",
       "\n",
       "    .dataframe thead th {\n",
       "        text-align: right;\n",
       "    }\n",
       "</style>\n",
       "<table border=\"1\" class=\"dataframe\">\n",
       "  <thead>\n",
       "    <tr style=\"text-align: right;\">\n",
       "      <th>Medal</th>\n",
       "      <th>Gold</th>\n",
       "      <th>Silver</th>\n",
       "      <th>Bronze</th>\n",
       "    </tr>\n",
       "    <tr>\n",
       "      <th>NOC</th>\n",
       "      <th></th>\n",
       "      <th></th>\n",
       "      <th></th>\n",
       "    </tr>\n",
       "  </thead>\n",
       "  <tbody>\n",
       "    <tr>\n",
       "      <th>AUS</th>\n",
       "      <td>1</td>\n",
       "      <td>0</td>\n",
       "      <td>1</td>\n",
       "    </tr>\n",
       "    <tr>\n",
       "      <th>AUT</th>\n",
       "      <td>16</td>\n",
       "      <td>7</td>\n",
       "      <td>7</td>\n",
       "    </tr>\n",
       "    <tr>\n",
       "      <th>BLR</th>\n",
       "      <td>0</td>\n",
       "      <td>1</td>\n",
       "      <td>0</td>\n",
       "    </tr>\n",
       "    <tr>\n",
       "      <th>BUL</th>\n",
       "      <td>0</td>\n",
       "      <td>1</td>\n",
       "      <td>0</td>\n",
       "    </tr>\n",
       "    <tr>\n",
       "      <th>CAN</th>\n",
       "      <td>30</td>\n",
       "      <td>28</td>\n",
       "      <td>11</td>\n",
       "    </tr>\n",
       "    <tr>\n",
       "      <th>CHN</th>\n",
       "      <td>2</td>\n",
       "      <td>5</td>\n",
       "      <td>6</td>\n",
       "    </tr>\n",
       "    <tr>\n",
       "      <th>CRO</th>\n",
       "      <td>1</td>\n",
       "      <td>2</td>\n",
       "      <td>0</td>\n",
       "    </tr>\n",
       "    <tr>\n",
       "      <th>CZE</th>\n",
       "      <td>1</td>\n",
       "      <td>2</td>\n",
       "      <td>24</td>\n",
       "    </tr>\n",
       "    <tr>\n",
       "      <th>EST</th>\n",
       "      <td>3</td>\n",
       "      <td>0</td>\n",
       "      <td>0</td>\n",
       "    </tr>\n",
       "    <tr>\n",
       "      <th>FIN</th>\n",
       "      <td>0</td>\n",
       "      <td>34</td>\n",
       "      <td>7</td>\n",
       "    </tr>\n",
       "  </tbody>\n",
       "</table>\n",
       "</div>"
      ]
     },
     "metadata": {},
     "output_type": "display_data"
    }
   ],
   "execution_count": 20
  },
  {
   "cell_type": "markdown",
   "id": "9ac1b8cc",
   "metadata": {},
   "source": [
    "# Часть 3"
   ]
  },
  {
   "cell_type": "code",
   "id": "8df1ea33",
   "metadata": {
    "ExecuteTime": {
     "end_time": "2025-10-29T16:15:20.228995Z",
     "start_time": "2025-10-29T16:15:20.193168Z"
    }
   },
   "source": [
    "try:\n",
    "    df_churn = pd.read_csv('data/telecom_churn.csv')\n",
    "    print(\"Данные об оттоке клиентов успешно загружены.\")\n",
    "except FileNotFoundError:\n",
    "    print(\"Ошибка: файл 'data/telecom_churn.csv' не найден.\")\n",
    "    df_churn = pd.DataFrame()\n",
    "\n",
    "print(\"\\nОбщая информация о датафрейме:\")\n",
    "df_churn.info()\n",
    "\n",
    "print(\"\\nСтатистическое описание:\")\n",
    "display(df_churn.describe())"
   ],
   "outputs": [
    {
     "name": "stdout",
     "output_type": "stream",
     "text": [
      "Данные об оттоке клиентов успешно загружены.\n",
      "\n",
      "Общая информация о датафрейме:\n",
      "<class 'pandas.core.frame.DataFrame'>\n",
      "RangeIndex: 3333 entries, 0 to 3332\n",
      "Data columns (total 20 columns):\n",
      " #   Column                  Non-Null Count  Dtype  \n",
      "---  ------                  --------------  -----  \n",
      " 0   State                   3333 non-null   object \n",
      " 1   Account length          3333 non-null   int64  \n",
      " 2   Area code               3333 non-null   int64  \n",
      " 3   International plan      3333 non-null   object \n",
      " 4   Voice mail plan         3333 non-null   object \n",
      " 5   Number vmail messages   3333 non-null   int64  \n",
      " 6   Total day minutes       3333 non-null   float64\n",
      " 7   Total day calls         3333 non-null   int64  \n",
      " 8   Total day charge        3333 non-null   float64\n",
      " 9   Total eve minutes       3333 non-null   float64\n",
      " 10  Total eve calls         3333 non-null   int64  \n",
      " 11  Total eve charge        3333 non-null   float64\n",
      " 12  Total night minutes     3333 non-null   float64\n",
      " 13  Total night calls       3333 non-null   int64  \n",
      " 14  Total night charge      3333 non-null   float64\n",
      " 15  Total intl minutes      3333 non-null   float64\n",
      " 16  Total intl calls        3333 non-null   int64  \n",
      " 17  Total intl charge       3333 non-null   float64\n",
      " 18  Customer service calls  3333 non-null   int64  \n",
      " 19  Churn                   3333 non-null   bool   \n",
      "dtypes: bool(1), float64(8), int64(8), object(3)\n",
      "memory usage: 498.1+ KB\n",
      "\n",
      "Статистическое описание:\n"
     ]
    },
    {
     "data": {
      "text/plain": [
       "       Account length    Area code  Number vmail messages  Total day minutes  \\\n",
       "count     3333.000000  3333.000000            3333.000000        3333.000000   \n",
       "mean       101.064806   437.182418               8.099010         179.775098   \n",
       "std         39.822106    42.371290              13.688365          54.467389   \n",
       "min          1.000000   408.000000               0.000000           0.000000   \n",
       "25%         74.000000   408.000000               0.000000         143.700000   \n",
       "50%        101.000000   415.000000               0.000000         179.400000   \n",
       "75%        127.000000   510.000000              20.000000         216.400000   \n",
       "max        243.000000   510.000000              51.000000         350.800000   \n",
       "\n",
       "       Total day calls  Total day charge  Total eve minutes  Total eve calls  \\\n",
       "count      3333.000000       3333.000000        3333.000000      3333.000000   \n",
       "mean        100.435644         30.562307         200.980348       100.114311   \n",
       "std          20.069084          9.259435          50.713844        19.922625   \n",
       "min           0.000000          0.000000           0.000000         0.000000   \n",
       "25%          87.000000         24.430000         166.600000        87.000000   \n",
       "50%         101.000000         30.500000         201.400000       100.000000   \n",
       "75%         114.000000         36.790000         235.300000       114.000000   \n",
       "max         165.000000         59.640000         363.700000       170.000000   \n",
       "\n",
       "       Total eve charge  Total night minutes  Total night calls  \\\n",
       "count       3333.000000          3333.000000        3333.000000   \n",
       "mean          17.083540           200.872037         100.107711   \n",
       "std            4.310668            50.573847          19.568609   \n",
       "min            0.000000            23.200000          33.000000   \n",
       "25%           14.160000           167.000000          87.000000   \n",
       "50%           17.120000           201.200000         100.000000   \n",
       "75%           20.000000           235.300000         113.000000   \n",
       "max           30.910000           395.000000         175.000000   \n",
       "\n",
       "       Total night charge  Total intl minutes  Total intl calls  \\\n",
       "count         3333.000000         3333.000000       3333.000000   \n",
       "mean             9.039325           10.237294          4.479448   \n",
       "std              2.275873            2.791840          2.461214   \n",
       "min              1.040000            0.000000          0.000000   \n",
       "25%              7.520000            8.500000          3.000000   \n",
       "50%              9.050000           10.300000          4.000000   \n",
       "75%             10.590000           12.100000          6.000000   \n",
       "max             17.770000           20.000000         20.000000   \n",
       "\n",
       "       Total intl charge  Customer service calls  \n",
       "count        3333.000000             3333.000000  \n",
       "mean            2.764581                1.562856  \n",
       "std             0.753773                1.315491  \n",
       "min             0.000000                0.000000  \n",
       "25%             2.300000                1.000000  \n",
       "50%             2.780000                1.000000  \n",
       "75%             3.270000                2.000000  \n",
       "max             5.400000                9.000000  "
      ],
      "text/html": [
       "<div>\n",
       "<style scoped>\n",
       "    .dataframe tbody tr th:only-of-type {\n",
       "        vertical-align: middle;\n",
       "    }\n",
       "\n",
       "    .dataframe tbody tr th {\n",
       "        vertical-align: top;\n",
       "    }\n",
       "\n",
       "    .dataframe thead th {\n",
       "        text-align: right;\n",
       "    }\n",
       "</style>\n",
       "<table border=\"1\" class=\"dataframe\">\n",
       "  <thead>\n",
       "    <tr style=\"text-align: right;\">\n",
       "      <th></th>\n",
       "      <th>Account length</th>\n",
       "      <th>Area code</th>\n",
       "      <th>Number vmail messages</th>\n",
       "      <th>Total day minutes</th>\n",
       "      <th>Total day calls</th>\n",
       "      <th>Total day charge</th>\n",
       "      <th>Total eve minutes</th>\n",
       "      <th>Total eve calls</th>\n",
       "      <th>Total eve charge</th>\n",
       "      <th>Total night minutes</th>\n",
       "      <th>Total night calls</th>\n",
       "      <th>Total night charge</th>\n",
       "      <th>Total intl minutes</th>\n",
       "      <th>Total intl calls</th>\n",
       "      <th>Total intl charge</th>\n",
       "      <th>Customer service calls</th>\n",
       "    </tr>\n",
       "  </thead>\n",
       "  <tbody>\n",
       "    <tr>\n",
       "      <th>count</th>\n",
       "      <td>3333.000000</td>\n",
       "      <td>3333.000000</td>\n",
       "      <td>3333.000000</td>\n",
       "      <td>3333.000000</td>\n",
       "      <td>3333.000000</td>\n",
       "      <td>3333.000000</td>\n",
       "      <td>3333.000000</td>\n",
       "      <td>3333.000000</td>\n",
       "      <td>3333.000000</td>\n",
       "      <td>3333.000000</td>\n",
       "      <td>3333.000000</td>\n",
       "      <td>3333.000000</td>\n",
       "      <td>3333.000000</td>\n",
       "      <td>3333.000000</td>\n",
       "      <td>3333.000000</td>\n",
       "      <td>3333.000000</td>\n",
       "    </tr>\n",
       "    <tr>\n",
       "      <th>mean</th>\n",
       "      <td>101.064806</td>\n",
       "      <td>437.182418</td>\n",
       "      <td>8.099010</td>\n",
       "      <td>179.775098</td>\n",
       "      <td>100.435644</td>\n",
       "      <td>30.562307</td>\n",
       "      <td>200.980348</td>\n",
       "      <td>100.114311</td>\n",
       "      <td>17.083540</td>\n",
       "      <td>200.872037</td>\n",
       "      <td>100.107711</td>\n",
       "      <td>9.039325</td>\n",
       "      <td>10.237294</td>\n",
       "      <td>4.479448</td>\n",
       "      <td>2.764581</td>\n",
       "      <td>1.562856</td>\n",
       "    </tr>\n",
       "    <tr>\n",
       "      <th>std</th>\n",
       "      <td>39.822106</td>\n",
       "      <td>42.371290</td>\n",
       "      <td>13.688365</td>\n",
       "      <td>54.467389</td>\n",
       "      <td>20.069084</td>\n",
       "      <td>9.259435</td>\n",
       "      <td>50.713844</td>\n",
       "      <td>19.922625</td>\n",
       "      <td>4.310668</td>\n",
       "      <td>50.573847</td>\n",
       "      <td>19.568609</td>\n",
       "      <td>2.275873</td>\n",
       "      <td>2.791840</td>\n",
       "      <td>2.461214</td>\n",
       "      <td>0.753773</td>\n",
       "      <td>1.315491</td>\n",
       "    </tr>\n",
       "    <tr>\n",
       "      <th>min</th>\n",
       "      <td>1.000000</td>\n",
       "      <td>408.000000</td>\n",
       "      <td>0.000000</td>\n",
       "      <td>0.000000</td>\n",
       "      <td>0.000000</td>\n",
       "      <td>0.000000</td>\n",
       "      <td>0.000000</td>\n",
       "      <td>0.000000</td>\n",
       "      <td>0.000000</td>\n",
       "      <td>23.200000</td>\n",
       "      <td>33.000000</td>\n",
       "      <td>1.040000</td>\n",
       "      <td>0.000000</td>\n",
       "      <td>0.000000</td>\n",
       "      <td>0.000000</td>\n",
       "      <td>0.000000</td>\n",
       "    </tr>\n",
       "    <tr>\n",
       "      <th>25%</th>\n",
       "      <td>74.000000</td>\n",
       "      <td>408.000000</td>\n",
       "      <td>0.000000</td>\n",
       "      <td>143.700000</td>\n",
       "      <td>87.000000</td>\n",
       "      <td>24.430000</td>\n",
       "      <td>166.600000</td>\n",
       "      <td>87.000000</td>\n",
       "      <td>14.160000</td>\n",
       "      <td>167.000000</td>\n",
       "      <td>87.000000</td>\n",
       "      <td>7.520000</td>\n",
       "      <td>8.500000</td>\n",
       "      <td>3.000000</td>\n",
       "      <td>2.300000</td>\n",
       "      <td>1.000000</td>\n",
       "    </tr>\n",
       "    <tr>\n",
       "      <th>50%</th>\n",
       "      <td>101.000000</td>\n",
       "      <td>415.000000</td>\n",
       "      <td>0.000000</td>\n",
       "      <td>179.400000</td>\n",
       "      <td>101.000000</td>\n",
       "      <td>30.500000</td>\n",
       "      <td>201.400000</td>\n",
       "      <td>100.000000</td>\n",
       "      <td>17.120000</td>\n",
       "      <td>201.200000</td>\n",
       "      <td>100.000000</td>\n",
       "      <td>9.050000</td>\n",
       "      <td>10.300000</td>\n",
       "      <td>4.000000</td>\n",
       "      <td>2.780000</td>\n",
       "      <td>1.000000</td>\n",
       "    </tr>\n",
       "    <tr>\n",
       "      <th>75%</th>\n",
       "      <td>127.000000</td>\n",
       "      <td>510.000000</td>\n",
       "      <td>20.000000</td>\n",
       "      <td>216.400000</td>\n",
       "      <td>114.000000</td>\n",
       "      <td>36.790000</td>\n",
       "      <td>235.300000</td>\n",
       "      <td>114.000000</td>\n",
       "      <td>20.000000</td>\n",
       "      <td>235.300000</td>\n",
       "      <td>113.000000</td>\n",
       "      <td>10.590000</td>\n",
       "      <td>12.100000</td>\n",
       "      <td>6.000000</td>\n",
       "      <td>3.270000</td>\n",
       "      <td>2.000000</td>\n",
       "    </tr>\n",
       "    <tr>\n",
       "      <th>max</th>\n",
       "      <td>243.000000</td>\n",
       "      <td>510.000000</td>\n",
       "      <td>51.000000</td>\n",
       "      <td>350.800000</td>\n",
       "      <td>165.000000</td>\n",
       "      <td>59.640000</td>\n",
       "      <td>363.700000</td>\n",
       "      <td>170.000000</td>\n",
       "      <td>30.910000</td>\n",
       "      <td>395.000000</td>\n",
       "      <td>175.000000</td>\n",
       "      <td>17.770000</td>\n",
       "      <td>20.000000</td>\n",
       "      <td>20.000000</td>\n",
       "      <td>5.400000</td>\n",
       "      <td>9.000000</td>\n",
       "    </tr>\n",
       "  </tbody>\n",
       "</table>\n",
       "</div>"
      ]
     },
     "metadata": {},
     "output_type": "display_data"
    }
   ],
   "execution_count": 21
  },
  {
   "cell_type": "code",
   "id": "1bbbecf3",
   "metadata": {
    "ExecuteTime": {
     "end_time": "2025-10-29T16:15:20.335480Z",
     "start_time": "2025-10-29T16:15:20.330456Z"
    }
   },
   "source": [
    "print(\"Распределение клиентов по статусу 'Churn':\")\n",
    "print(df_churn['Churn'].value_counts())\n",
    "\n",
    "print(\"\\nТо же самое в процентах:\")\n",
    "print(df_churn['Churn'].value_counts(normalize=True).apply(\"{:.2%}\".format))"
   ],
   "outputs": [
    {
     "name": "stdout",
     "output_type": "stream",
     "text": [
      "Распределение клиентов по статусу 'Churn':\n",
      "Churn\n",
      "False    2850\n",
      "True      483\n",
      "Name: count, dtype: int64\n",
      "\n",
      "То же самое в процентах:\n",
      "Churn\n",
      "False    85.51%\n",
      "True     14.49%\n",
      "Name: proportion, dtype: object\n"
     ]
    }
   ],
   "execution_count": 22
  },
  {
   "cell_type": "code",
   "id": "69ba1719",
   "metadata": {
    "ExecuteTime": {
     "end_time": "2025-10-29T16:15:20.497727Z",
     "start_time": "2025-10-29T16:15:20.477764Z"
    }
   },
   "source": [
    "\n",
    "total_minutes = df_churn['Total day minutes'] + df_churn['Total eve minutes'] + df_churn['Total night minutes']\n",
    "total_calls = df_churn['Total day calls'] + df_churn['Total eve calls'] + df_churn['Total night calls']\n",
    "\n",
    "df_churn['Avg call duration'] = (total_minutes / total_calls).fillna(0)\n",
    "\n",
    "print(\"Топ-10 клиентов по средней продолжительности одного звонка:\")\n",
    "display(df_churn.sort_values(by='Avg call duration', ascending=False).head(10))"
   ],
   "outputs": [
    {
     "name": "stdout",
     "output_type": "stream",
     "text": [
      "Топ-10 клиентов по средней продолжительности одного звонка:\n"
     ]
    },
    {
     "data": {
      "text/plain": [
       "     State  Account length  Area code International plan Voice mail plan  \\\n",
       "985     NY              64        415                Yes              No   \n",
       "2824    OR              81        415                 No              No   \n",
       "244     VA             108        408                 No              No   \n",
       "2321    AR             153        408                 No              No   \n",
       "2033    NJ             162        408                 No              No   \n",
       "1709    NV              96        408                 No              No   \n",
       "2536    CT             119        408                 No              No   \n",
       "1686    CT             163        408                 No             Yes   \n",
       "649     MO              79        408                 No              No   \n",
       "2289    MS              98        415                Yes             Yes   \n",
       "\n",
       "      Number vmail messages  Total day minutes  Total day calls  \\\n",
       "985                       0              346.8               55   \n",
       "2824                      0              324.7               48   \n",
       "244                       0              198.5               99   \n",
       "2321                      0              154.6               56   \n",
       "2033                      0              217.6               87   \n",
       "1709                      0              197.7               68   \n",
       "2536                      0              294.2              100   \n",
       "1686                     40              231.9               56   \n",
       "649                       0              261.7               97   \n",
       "2289                     23              245.5               54   \n",
       "\n",
       "      Total day charge  Total eve minutes  ...  Total eve charge  \\\n",
       "985              58.96              249.5  ...             21.21   \n",
       "2824             55.20              236.4  ...             20.09   \n",
       "244              33.75              267.8  ...             22.76   \n",
       "2321             26.28              263.0  ...             22.36   \n",
       "2033             36.99              279.0  ...             23.72   \n",
       "1709             33.61              250.5  ...             21.29   \n",
       "2536             50.01              232.5  ...             19.76   \n",
       "1686             39.42              211.8  ...             18.00   \n",
       "649              44.49              210.6  ...             17.90   \n",
       "2289             41.74              292.7  ...             24.88   \n",
       "\n",
       "      Total night minutes  Total night calls  Total night charge  \\\n",
       "985                 275.4                102               12.39   \n",
       "2824                187.6                 78                8.44   \n",
       "244                 354.9                 75               15.97   \n",
       "2321                367.7                 89               16.55   \n",
       "2033                250.7                 65               11.28   \n",
       "1709                181.2                 67                8.15   \n",
       "2536                195.0                 64                8.78   \n",
       "1686                268.5                 74               12.08   \n",
       "649                 256.7                 83               11.55   \n",
       "2289                184.0                 90                8.28   \n",
       "\n",
       "      Total intl minutes  Total intl calls  Total intl charge  \\\n",
       "985                 13.3                 9               3.59   \n",
       "2824                13.1                 5               3.54   \n",
       "244                  9.4                 3               2.54   \n",
       "2321                15.5                 2               4.19   \n",
       "2033                10.4                 4               2.81   \n",
       "1709                10.5                 3               2.84   \n",
       "2536                 9.0                 1               2.43   \n",
       "1686                12.3                 3               3.32   \n",
       "649                  6.0                 3               1.62   \n",
       "2289                10.8                 7               2.92   \n",
       "\n",
       "      Customer service calls  Churn  Avg call duration  \n",
       "985                        1   True           3.693644  \n",
       "2824                       0   True           3.599519  \n",
       "244                        0   True           3.509402  \n",
       "2321                       1  False           3.429258  \n",
       "2033                       2   True           3.351121  \n",
       "1709                       3  False           3.347872  \n",
       "2536                       0   True           3.325806  \n",
       "1686                       2  False           3.222624  \n",
       "649                        3   True           3.197368  \n",
       "2289                       1  False           3.181498  \n",
       "\n",
       "[10 rows x 21 columns]"
      ],
      "text/html": [
       "<div>\n",
       "<style scoped>\n",
       "    .dataframe tbody tr th:only-of-type {\n",
       "        vertical-align: middle;\n",
       "    }\n",
       "\n",
       "    .dataframe tbody tr th {\n",
       "        vertical-align: top;\n",
       "    }\n",
       "\n",
       "    .dataframe thead th {\n",
       "        text-align: right;\n",
       "    }\n",
       "</style>\n",
       "<table border=\"1\" class=\"dataframe\">\n",
       "  <thead>\n",
       "    <tr style=\"text-align: right;\">\n",
       "      <th></th>\n",
       "      <th>State</th>\n",
       "      <th>Account length</th>\n",
       "      <th>Area code</th>\n",
       "      <th>International plan</th>\n",
       "      <th>Voice mail plan</th>\n",
       "      <th>Number vmail messages</th>\n",
       "      <th>Total day minutes</th>\n",
       "      <th>Total day calls</th>\n",
       "      <th>Total day charge</th>\n",
       "      <th>Total eve minutes</th>\n",
       "      <th>...</th>\n",
       "      <th>Total eve charge</th>\n",
       "      <th>Total night minutes</th>\n",
       "      <th>Total night calls</th>\n",
       "      <th>Total night charge</th>\n",
       "      <th>Total intl minutes</th>\n",
       "      <th>Total intl calls</th>\n",
       "      <th>Total intl charge</th>\n",
       "      <th>Customer service calls</th>\n",
       "      <th>Churn</th>\n",
       "      <th>Avg call duration</th>\n",
       "    </tr>\n",
       "  </thead>\n",
       "  <tbody>\n",
       "    <tr>\n",
       "      <th>985</th>\n",
       "      <td>NY</td>\n",
       "      <td>64</td>\n",
       "      <td>415</td>\n",
       "      <td>Yes</td>\n",
       "      <td>No</td>\n",
       "      <td>0</td>\n",
       "      <td>346.8</td>\n",
       "      <td>55</td>\n",
       "      <td>58.96</td>\n",
       "      <td>249.5</td>\n",
       "      <td>...</td>\n",
       "      <td>21.21</td>\n",
       "      <td>275.4</td>\n",
       "      <td>102</td>\n",
       "      <td>12.39</td>\n",
       "      <td>13.3</td>\n",
       "      <td>9</td>\n",
       "      <td>3.59</td>\n",
       "      <td>1</td>\n",
       "      <td>True</td>\n",
       "      <td>3.693644</td>\n",
       "    </tr>\n",
       "    <tr>\n",
       "      <th>2824</th>\n",
       "      <td>OR</td>\n",
       "      <td>81</td>\n",
       "      <td>415</td>\n",
       "      <td>No</td>\n",
       "      <td>No</td>\n",
       "      <td>0</td>\n",
       "      <td>324.7</td>\n",
       "      <td>48</td>\n",
       "      <td>55.20</td>\n",
       "      <td>236.4</td>\n",
       "      <td>...</td>\n",
       "      <td>20.09</td>\n",
       "      <td>187.6</td>\n",
       "      <td>78</td>\n",
       "      <td>8.44</td>\n",
       "      <td>13.1</td>\n",
       "      <td>5</td>\n",
       "      <td>3.54</td>\n",
       "      <td>0</td>\n",
       "      <td>True</td>\n",
       "      <td>3.599519</td>\n",
       "    </tr>\n",
       "    <tr>\n",
       "      <th>244</th>\n",
       "      <td>VA</td>\n",
       "      <td>108</td>\n",
       "      <td>408</td>\n",
       "      <td>No</td>\n",
       "      <td>No</td>\n",
       "      <td>0</td>\n",
       "      <td>198.5</td>\n",
       "      <td>99</td>\n",
       "      <td>33.75</td>\n",
       "      <td>267.8</td>\n",
       "      <td>...</td>\n",
       "      <td>22.76</td>\n",
       "      <td>354.9</td>\n",
       "      <td>75</td>\n",
       "      <td>15.97</td>\n",
       "      <td>9.4</td>\n",
       "      <td>3</td>\n",
       "      <td>2.54</td>\n",
       "      <td>0</td>\n",
       "      <td>True</td>\n",
       "      <td>3.509402</td>\n",
       "    </tr>\n",
       "    <tr>\n",
       "      <th>2321</th>\n",
       "      <td>AR</td>\n",
       "      <td>153</td>\n",
       "      <td>408</td>\n",
       "      <td>No</td>\n",
       "      <td>No</td>\n",
       "      <td>0</td>\n",
       "      <td>154.6</td>\n",
       "      <td>56</td>\n",
       "      <td>26.28</td>\n",
       "      <td>263.0</td>\n",
       "      <td>...</td>\n",
       "      <td>22.36</td>\n",
       "      <td>367.7</td>\n",
       "      <td>89</td>\n",
       "      <td>16.55</td>\n",
       "      <td>15.5</td>\n",
       "      <td>2</td>\n",
       "      <td>4.19</td>\n",
       "      <td>1</td>\n",
       "      <td>False</td>\n",
       "      <td>3.429258</td>\n",
       "    </tr>\n",
       "    <tr>\n",
       "      <th>2033</th>\n",
       "      <td>NJ</td>\n",
       "      <td>162</td>\n",
       "      <td>408</td>\n",
       "      <td>No</td>\n",
       "      <td>No</td>\n",
       "      <td>0</td>\n",
       "      <td>217.6</td>\n",
       "      <td>87</td>\n",
       "      <td>36.99</td>\n",
       "      <td>279.0</td>\n",
       "      <td>...</td>\n",
       "      <td>23.72</td>\n",
       "      <td>250.7</td>\n",
       "      <td>65</td>\n",
       "      <td>11.28</td>\n",
       "      <td>10.4</td>\n",
       "      <td>4</td>\n",
       "      <td>2.81</td>\n",
       "      <td>2</td>\n",
       "      <td>True</td>\n",
       "      <td>3.351121</td>\n",
       "    </tr>\n",
       "    <tr>\n",
       "      <th>1709</th>\n",
       "      <td>NV</td>\n",
       "      <td>96</td>\n",
       "      <td>408</td>\n",
       "      <td>No</td>\n",
       "      <td>No</td>\n",
       "      <td>0</td>\n",
       "      <td>197.7</td>\n",
       "      <td>68</td>\n",
       "      <td>33.61</td>\n",
       "      <td>250.5</td>\n",
       "      <td>...</td>\n",
       "      <td>21.29</td>\n",
       "      <td>181.2</td>\n",
       "      <td>67</td>\n",
       "      <td>8.15</td>\n",
       "      <td>10.5</td>\n",
       "      <td>3</td>\n",
       "      <td>2.84</td>\n",
       "      <td>3</td>\n",
       "      <td>False</td>\n",
       "      <td>3.347872</td>\n",
       "    </tr>\n",
       "    <tr>\n",
       "      <th>2536</th>\n",
       "      <td>CT</td>\n",
       "      <td>119</td>\n",
       "      <td>408</td>\n",
       "      <td>No</td>\n",
       "      <td>No</td>\n",
       "      <td>0</td>\n",
       "      <td>294.2</td>\n",
       "      <td>100</td>\n",
       "      <td>50.01</td>\n",
       "      <td>232.5</td>\n",
       "      <td>...</td>\n",
       "      <td>19.76</td>\n",
       "      <td>195.0</td>\n",
       "      <td>64</td>\n",
       "      <td>8.78</td>\n",
       "      <td>9.0</td>\n",
       "      <td>1</td>\n",
       "      <td>2.43</td>\n",
       "      <td>0</td>\n",
       "      <td>True</td>\n",
       "      <td>3.325806</td>\n",
       "    </tr>\n",
       "    <tr>\n",
       "      <th>1686</th>\n",
       "      <td>CT</td>\n",
       "      <td>163</td>\n",
       "      <td>408</td>\n",
       "      <td>No</td>\n",
       "      <td>Yes</td>\n",
       "      <td>40</td>\n",
       "      <td>231.9</td>\n",
       "      <td>56</td>\n",
       "      <td>39.42</td>\n",
       "      <td>211.8</td>\n",
       "      <td>...</td>\n",
       "      <td>18.00</td>\n",
       "      <td>268.5</td>\n",
       "      <td>74</td>\n",
       "      <td>12.08</td>\n",
       "      <td>12.3</td>\n",
       "      <td>3</td>\n",
       "      <td>3.32</td>\n",
       "      <td>2</td>\n",
       "      <td>False</td>\n",
       "      <td>3.222624</td>\n",
       "    </tr>\n",
       "    <tr>\n",
       "      <th>649</th>\n",
       "      <td>MO</td>\n",
       "      <td>79</td>\n",
       "      <td>408</td>\n",
       "      <td>No</td>\n",
       "      <td>No</td>\n",
       "      <td>0</td>\n",
       "      <td>261.7</td>\n",
       "      <td>97</td>\n",
       "      <td>44.49</td>\n",
       "      <td>210.6</td>\n",
       "      <td>...</td>\n",
       "      <td>17.90</td>\n",
       "      <td>256.7</td>\n",
       "      <td>83</td>\n",
       "      <td>11.55</td>\n",
       "      <td>6.0</td>\n",
       "      <td>3</td>\n",
       "      <td>1.62</td>\n",
       "      <td>3</td>\n",
       "      <td>True</td>\n",
       "      <td>3.197368</td>\n",
       "    </tr>\n",
       "    <tr>\n",
       "      <th>2289</th>\n",
       "      <td>MS</td>\n",
       "      <td>98</td>\n",
       "      <td>415</td>\n",
       "      <td>Yes</td>\n",
       "      <td>Yes</td>\n",
       "      <td>23</td>\n",
       "      <td>245.5</td>\n",
       "      <td>54</td>\n",
       "      <td>41.74</td>\n",
       "      <td>292.7</td>\n",
       "      <td>...</td>\n",
       "      <td>24.88</td>\n",
       "      <td>184.0</td>\n",
       "      <td>90</td>\n",
       "      <td>8.28</td>\n",
       "      <td>10.8</td>\n",
       "      <td>7</td>\n",
       "      <td>2.92</td>\n",
       "      <td>1</td>\n",
       "      <td>False</td>\n",
       "      <td>3.181498</td>\n",
       "    </tr>\n",
       "  </tbody>\n",
       "</table>\n",
       "<p>10 rows × 21 columns</p>\n",
       "</div>"
      ]
     },
     "metadata": {},
     "output_type": "display_data"
    }
   ],
   "execution_count": 23
  },
  {
   "cell_type": "code",
   "id": "12f1b31a",
   "metadata": {
    "ExecuteTime": {
     "end_time": "2025-10-29T16:15:20.537444Z",
     "start_time": "2025-10-29T16:15:20.533033Z"
    }
   },
   "source": [
    "avg_duration_by_churn = df_churn.groupby('Churn')['Avg call duration'].mean()\n",
    "print(\"Средняя продолжительность звонка для активных и ушедших клиентов:\")\n",
    "print(avg_duration_by_churn)"
   ],
   "outputs": [
    {
     "name": "stdout",
     "output_type": "stream",
     "text": [
      "Средняя продолжительность звонка для активных и ушедших клиентов:\n",
      "Churn\n",
      "False    1.938102\n",
      "True     2.091193\n",
      "Name: Avg call duration, dtype: float64\n"
     ]
    }
   ],
   "execution_count": 24
  },
  {
   "cell_type": "code",
   "id": "c0babf21",
   "metadata": {
    "ExecuteTime": {
     "end_time": "2025-10-29T16:15:20.675477Z",
     "start_time": "2025-10-29T16:15:20.670759Z"
    }
   },
   "source": [
    "avg_calls_by_churn = df_churn.groupby('Churn')['Customer service calls'].mean()\n",
    "print(\"Среднее количество звонков в службу поддержки:\")\n",
    "print(avg_calls_by_churn)"
   ],
   "outputs": [
    {
     "name": "stdout",
     "output_type": "stream",
     "text": [
      "Среднее количество звонков в службу поддержки:\n",
      "Churn\n",
      "False    1.449825\n",
      "True     2.229814\n",
      "Name: Customer service calls, dtype: float64\n"
     ]
    }
   ],
   "execution_count": 25
  },
  {
   "cell_type": "code",
   "id": "478e6573",
   "metadata": {
    "ExecuteTime": {
     "end_time": "2025-10-29T16:15:20.767170Z",
     "start_time": "2025-10-29T16:15:20.754564Z"
    }
   },
   "source": [
    "\n",
    "crosstab_service_calls = pd.crosstab(df_churn['Customer service calls'], df_churn['Churn'], normalize='index')\n",
    "crosstab_service_calls['Churn_True_Percent'] = crosstab_service_calls[True].apply(\"{:.2%}\".format)\n",
    "\n",
    "print(\"Таблица сопряженности (процент оттока в зависимости от числа звонков в поддержку):\")\n",
    "display(crosstab_service_calls)"
   ],
   "outputs": [
    {
     "name": "stdout",
     "output_type": "stream",
     "text": [
      "Таблица сопряженности (процент оттока в зависимости от числа звонков в поддержку):\n"
     ]
    },
    {
     "data": {
      "text/plain": [
       "Churn                      False      True Churn_True_Percent\n",
       "Customer service calls                                       \n",
       "0                       0.868006  0.131994             13.20%\n",
       "1                       0.896698  0.103302             10.33%\n",
       "2                       0.885375  0.114625             11.46%\n",
       "3                       0.897436  0.102564             10.26%\n",
       "4                       0.542169  0.457831             45.78%\n",
       "5                       0.393939  0.606061             60.61%\n",
       "6                       0.363636  0.636364             63.64%\n",
       "7                       0.444444  0.555556             55.56%\n",
       "8                       0.500000  0.500000             50.00%\n",
       "9                       0.000000  1.000000            100.00%"
      ],
      "text/html": [
       "<div>\n",
       "<style scoped>\n",
       "    .dataframe tbody tr th:only-of-type {\n",
       "        vertical-align: middle;\n",
       "    }\n",
       "\n",
       "    .dataframe tbody tr th {\n",
       "        vertical-align: top;\n",
       "    }\n",
       "\n",
       "    .dataframe thead th {\n",
       "        text-align: right;\n",
       "    }\n",
       "</style>\n",
       "<table border=\"1\" class=\"dataframe\">\n",
       "  <thead>\n",
       "    <tr style=\"text-align: right;\">\n",
       "      <th>Churn</th>\n",
       "      <th>False</th>\n",
       "      <th>True</th>\n",
       "      <th>Churn_True_Percent</th>\n",
       "    </tr>\n",
       "    <tr>\n",
       "      <th>Customer service calls</th>\n",
       "      <th></th>\n",
       "      <th></th>\n",
       "      <th></th>\n",
       "    </tr>\n",
       "  </thead>\n",
       "  <tbody>\n",
       "    <tr>\n",
       "      <th>0</th>\n",
       "      <td>0.868006</td>\n",
       "      <td>0.131994</td>\n",
       "      <td>13.20%</td>\n",
       "    </tr>\n",
       "    <tr>\n",
       "      <th>1</th>\n",
       "      <td>0.896698</td>\n",
       "      <td>0.103302</td>\n",
       "      <td>10.33%</td>\n",
       "    </tr>\n",
       "    <tr>\n",
       "      <th>2</th>\n",
       "      <td>0.885375</td>\n",
       "      <td>0.114625</td>\n",
       "      <td>11.46%</td>\n",
       "    </tr>\n",
       "    <tr>\n",
       "      <th>3</th>\n",
       "      <td>0.897436</td>\n",
       "      <td>0.102564</td>\n",
       "      <td>10.26%</td>\n",
       "    </tr>\n",
       "    <tr>\n",
       "      <th>4</th>\n",
       "      <td>0.542169</td>\n",
       "      <td>0.457831</td>\n",
       "      <td>45.78%</td>\n",
       "    </tr>\n",
       "    <tr>\n",
       "      <th>5</th>\n",
       "      <td>0.393939</td>\n",
       "      <td>0.606061</td>\n",
       "      <td>60.61%</td>\n",
       "    </tr>\n",
       "    <tr>\n",
       "      <th>6</th>\n",
       "      <td>0.363636</td>\n",
       "      <td>0.636364</td>\n",
       "      <td>63.64%</td>\n",
       "    </tr>\n",
       "    <tr>\n",
       "      <th>7</th>\n",
       "      <td>0.444444</td>\n",
       "      <td>0.555556</td>\n",
       "      <td>55.56%</td>\n",
       "    </tr>\n",
       "    <tr>\n",
       "      <th>8</th>\n",
       "      <td>0.500000</td>\n",
       "      <td>0.500000</td>\n",
       "      <td>50.00%</td>\n",
       "    </tr>\n",
       "    <tr>\n",
       "      <th>9</th>\n",
       "      <td>0.000000</td>\n",
       "      <td>1.000000</td>\n",
       "      <td>100.00%</td>\n",
       "    </tr>\n",
       "  </tbody>\n",
       "</table>\n",
       "</div>"
      ]
     },
     "metadata": {},
     "output_type": "display_data"
    }
   ],
   "execution_count": 26
  },
  {
   "cell_type": "code",
   "id": "2d964819",
   "metadata": {
    "ExecuteTime": {
     "end_time": "2025-10-29T16:15:20.803102Z",
     "start_time": "2025-10-29T16:15:20.791924Z"
    }
   },
   "source": [
    "crosstab_intl_plan = pd.crosstab(df_churn['International plan'], df_churn['Churn'], normalize='index')\n",
    "crosstab_intl_plan['Churn_True_Percent'] = crosstab_intl_plan[True].apply(\"{:.2%}\".format)\n",
    "print(\"Процент оттока в зависимости от наличия международного роуминга:\")\n",
    "display(crosstab_intl_plan)"
   ],
   "outputs": [
    {
     "name": "stdout",
     "output_type": "stream",
     "text": [
      "Процент оттока в зависимости от наличия международного роуминга:\n"
     ]
    },
    {
     "data": {
      "text/plain": [
       "Churn                  False      True Churn_True_Percent\n",
       "International plan                                       \n",
       "No                  0.885050  0.114950             11.50%\n",
       "Yes                 0.575851  0.424149             42.41%"
      ],
      "text/html": [
       "<div>\n",
       "<style scoped>\n",
       "    .dataframe tbody tr th:only-of-type {\n",
       "        vertical-align: middle;\n",
       "    }\n",
       "\n",
       "    .dataframe tbody tr th {\n",
       "        vertical-align: top;\n",
       "    }\n",
       "\n",
       "    .dataframe thead th {\n",
       "        text-align: right;\n",
       "    }\n",
       "</style>\n",
       "<table border=\"1\" class=\"dataframe\">\n",
       "  <thead>\n",
       "    <tr style=\"text-align: right;\">\n",
       "      <th>Churn</th>\n",
       "      <th>False</th>\n",
       "      <th>True</th>\n",
       "      <th>Churn_True_Percent</th>\n",
       "    </tr>\n",
       "    <tr>\n",
       "      <th>International plan</th>\n",
       "      <th></th>\n",
       "      <th></th>\n",
       "      <th></th>\n",
       "    </tr>\n",
       "  </thead>\n",
       "  <tbody>\n",
       "    <tr>\n",
       "      <th>No</th>\n",
       "      <td>0.885050</td>\n",
       "      <td>0.114950</td>\n",
       "      <td>11.50%</td>\n",
       "    </tr>\n",
       "    <tr>\n",
       "      <th>Yes</th>\n",
       "      <td>0.575851</td>\n",
       "      <td>0.424149</td>\n",
       "      <td>42.41%</td>\n",
       "    </tr>\n",
       "  </tbody>\n",
       "</table>\n",
       "</div>"
      ]
     },
     "metadata": {},
     "output_type": "display_data"
    }
   ],
   "execution_count": 27
  },
  {
   "cell_type": "code",
   "id": "a63c3e9d",
   "metadata": {
    "ExecuteTime": {
     "end_time": "2025-10-29T16:15:20.969401Z",
     "start_time": "2025-10-29T16:15:20.963871Z"
    }
   },
   "source": [
    "\n",
    "df_churn['Predicted churn'] = (df_churn['International plan'] == 'Yes') | (df_churn['Customer service calls'] >= 4)\n",
    "\n",
    "\n",
    "actual = df_churn['Churn']\n",
    "predicted = df_churn['Predicted churn']\n",
    "\n",
    "\n",
    "fp = ((predicted == True) & (actual == False)).sum()\n",
    "fp_rate = fp / (actual == False).sum()\n",
    "\n",
    "\n",
    "fn = ((predicted == False) & (actual == True)).sum()\n",
    "fn_rate = fn / (actual == True).sum()\n",
    "\n",
    "print(\"--- Оценка простого прогноза ---\")\n",
    "print(f\"Всего ложноположительных срабатываний (ошибка I рода): {fp}\")\n",
    "print(f\"Процент ошибок I рода (от всех лояльных клиентов): {fp_rate:.2%}\")\n",
    "print(f\"\\nВсего ложноотрицательных срабатываний (ошибка II рода): {fn}\")\n",
    "print(f\"Процент ошибок II рода (от всех ушедших клиентов): {fn_rate:.2%}\")"
   ],
   "outputs": [
    {
     "name": "stdout",
     "output_type": "stream",
     "text": [
      "--- Оценка простого прогноза ---\n",
      "Всего ложноположительных срабатываний (ошибка I рода): 306\n",
      "Процент ошибок I рода (от всех лояльных клиентов): 10.74%\n",
      "\n",
      "Всего ложноотрицательных срабатываний (ошибка II рода): 227\n",
      "Процент ошибок II рода (от всех ушедших клиентов): 47.00%\n"
     ]
    }
   ],
   "execution_count": 28
  }
 ],
 "metadata": {
  "kernelspec": {
   "display_name": "Python 3",
   "language": "python",
   "name": "python3"
  },
  "language_info": {
   "codemirror_mode": {
    "name": "ipython",
    "version": 3
   },
   "file_extension": ".py",
   "mimetype": "text/x-python",
   "name": "python",
   "nbconvert_exporter": "python",
   "pygments_lexer": "ipython3",
   "version": "3.10.6"
  }
 },
 "nbformat": 4,
 "nbformat_minor": 5
}
